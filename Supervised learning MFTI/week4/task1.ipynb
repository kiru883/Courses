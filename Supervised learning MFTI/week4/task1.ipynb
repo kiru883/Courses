{
 "cells": [
  {
   "cell_type": "code",
   "execution_count": 44,
   "metadata": {},
   "outputs": [],
   "source": [
    "import numpy as np\n",
    "import pandas as pd\n",
    "import seaborn as sns\n",
    "import math\n",
    "from sklearn.datasets import load_digits\n",
    "from sklearn.tree import DecisionTreeClassifier \n",
    "from sklearn.model_selection import cross_val_score\n",
    "from sklearn.ensemble import BaggingClassifier, RandomForestClassifier\n",
    "\n",
    "# off warning\n",
    "import warnings\n",
    "warnings.filterwarnings(\"ignore\")"
   ]
  },
  {
   "cell_type": "code",
   "execution_count": 35,
   "metadata": {},
   "outputs": [],
   "source": [
    "def write_answer(answ, name):\n",
    "    with open(name+\".txt\", \"w\") as fout:\n",
    "        fout.write(str(answ))"
   ]
  },
  {
   "cell_type": "code",
   "execution_count": 9,
   "metadata": {},
   "outputs": [],
   "source": [
    "digits_dts = load_digits()\n",
    "X = digits_dts['data']\n",
    "y = digits_dts['target']"
   ]
  },
  {
   "cell_type": "code",
   "execution_count": 36,
   "metadata": {},
   "outputs": [
    {
     "name": "stdout",
     "output_type": "stream",
     "text": [
      "Scores: [0.79444444 0.85       0.83888889 0.8        0.78333333 0.9\n",
      " 0.89444444 0.82122905 0.82681564 0.82122905]\n",
      "Mean: 0.8330384854127871\n"
     ]
    }
   ],
   "source": [
    "# task 1\n",
    "\n",
    "CV = 10\n",
    "estimator = DecisionTreeClassifier()\n",
    "scores = cross_val_score(estimator, X, y.reshape(-1, 1), cv=CV)\n",
    "print(f\"Scores: {scores}\\nMean: {scores.mean()}\")\n",
    "write_answer(scores.mean(), \"ans1\")"
   ]
  },
  {
   "cell_type": "code",
   "execution_count": 37,
   "metadata": {},
   "outputs": [
    {
     "name": "stdout",
     "output_type": "stream",
     "text": [
      "Scores: [0.87777778 0.96111111 0.89444444 0.91666667 0.92777778 0.98888889\n",
      " 0.96111111 0.92178771 0.88268156 0.91061453]\n",
      "Mean: 0.9242861576660459\n"
     ]
    }
   ],
   "source": [
    "# task 2\n",
    "\n",
    "CV = 10\n",
    "estimator = DecisionTreeClassifier()\n",
    "bagging = BaggingClassifier(estimator, n_estimators=100)\n",
    "scores = cross_val_score(bagging, X, y.reshape(-1, 1), cv=CV)\n",
    "print(f\"Scores: {scores}\\nMean: {scores.mean()}\")\n",
    "write_answer(scores.mean(), \"ans2\")"
   ]
  },
  {
   "cell_type": "code",
   "execution_count": 38,
   "metadata": {},
   "outputs": [
    {
     "name": "stdout",
     "output_type": "stream",
     "text": [
      "Scores: [0.88333333 0.95       0.91111111 0.88888889 0.95555556 0.92777778\n",
      " 0.96111111 0.96648045 0.92178771 0.91620112]\n",
      "Mean: 0.9282247051520793\n"
     ]
    }
   ],
   "source": [
    "# task 3\n",
    "\n",
    "CV = 10\n",
    "features =  math.sqrt(X.shape[1]) / X.shape[1]\n",
    "estimator = DecisionTreeClassifier()\n",
    "bagging = BaggingClassifier(estimator, n_estimators=100, max_features=features)\n",
    "scores = cross_val_score(bagging, X, y.reshape(-1, 1), cv=CV)\n",
    "print(f\"Scores: {scores}\\nMean: {scores.mean()}\")\n",
    "write_answer(scores.mean(), \"ans3\")"
   ]
  },
  {
   "cell_type": "code",
   "execution_count": 39,
   "metadata": {},
   "outputs": [
    {
     "name": "stdout",
     "output_type": "stream",
     "text": [
      "Scores: [0.90555556 0.96666667 0.95555556 0.92222222 0.96666667 0.97222222\n",
      " 0.97777778 0.95530726 0.94413408 0.93854749]\n",
      "Mean: 0.9504655493482309\n"
     ]
    }
   ],
   "source": [
    "# task 4\n",
    "\n",
    "CV = 10\n",
    "features =  math.sqrt(X.shape[1]) / X.shape[1]\n",
    "estimator = DecisionTreeClassifier(max_features=features)\n",
    "bagging = BaggingClassifier(estimator, n_estimators=100)\n",
    "scores = cross_val_score(bagging, X, y.reshape(-1, 1), cv=CV)\n",
    "print(f\"Scores: {scores}\\nMean: {scores.mean()}\")\n",
    "write_answer(scores.mean(), \"ans4\")"
   ]
  },
  {
   "cell_type": "code",
   "execution_count": 48,
   "metadata": {},
   "outputs": [
    {
     "name": "stdout",
     "output_type": "stream",
     "text": [
      "Bagging scores: [0.91111111 0.97222222 0.96111111 0.93333333 0.95555556 0.95\n",
      " 0.96111111 0.95530726 0.93296089 0.93296089]\n",
      "Mean: 0.9465673494723774\n",
      "RFC scores: [0.88333333 0.97222222 0.93333333 0.93333333 0.96111111 0.97222222\n",
      " 0.96111111 0.95530726 0.93296089 0.93854749]\n",
      "Mean: 0.9443482309124767\n"
     ]
    },
    {
     "data": {
      "text/plain": [
       "<matplotlib.axes._subplots.AxesSubplot at 0x249be44c248>"
      ]
     },
     "execution_count": 48,
     "metadata": {},
     "output_type": "execute_result"
    },
    {
     "data": {
      "image/png": "[encoded data removed]",
      "text/plain": [
       "<Figure size 432x288 with 1 Axes>"
      ]
     },
     "metadata": {
      "needs_background": "light"
     },
     "output_type": "display_data"
    }
   ],
   "source": [
    "# task 5\n",
    "\n",
    "# \n",
    "CV = 10\n",
    "features =  math.sqrt(X.shape[1]) / X.shape[1]\n",
    "\n",
    "estimator = DecisionTreeClassifier(max_features=features)\n",
    "bagging = BaggingClassifier(estimator, n_estimators=100)\n",
    "\n",
    "rfc = RandomForestClassifier(max_features=features)\n",
    "scores_bag = cross_val_score(bagging, X, y.reshape(-1, 1), cv=CV)\n",
    "scores_rfc = cross_val_score(rfc, X, y.reshape(-1, 1), cv=CV)\n",
    "\n",
    "print(f\"Bagging scores: {scores_bag}\\nMean: {scores_bag.mean()}\")\n",
    "print(f\"RFC scores: {scores_rfc}\\nMean: {scores_rfc.mean()}\")\n",
    "\n",
    "#\n",
    "f_nums = [n/X.shape[1] for n in range(1, X.shape[1], 4)]\n",
    "scores_rfc2 = []\n",
    "for fn in f_nums:\n",
    "    rfc = RandomForestClassifier(max_features=fn)\n",
    "    scores_rfc = cross_val_score(rfc, X, y.reshape(-1, 1), cv=CV)\n",
    "    scores_rfc2.append(scores_rfc.mean())\n",
    "sns.lineplot(f_nums, scores_rfc2)"
   ]
  },
  {
   "cell_type": "code",
   "execution_count": 47,
   "metadata": {},
   "outputs": [
    {
     "name": "stdout",
     "output_type": "stream",
     "text": [
      "Help on function lineplot in module seaborn.relational:\n",
      "\n",
      "lineplot(x=None, y=None, hue=None, size=None, style=None, data=None, palette=None, hue_order=None, hue_norm=None, sizes=None, size_order=None, size_norm=None, dashes=True, markers=None, style_order=None, units=None, estimator='mean', ci=95, n_boot=1000, sort=True, err_style='band', err_kws=None, legend='brief', ax=None, **kwargs)\n",
      "    Draw a line plot with possibility of several semantic groupings.\n",
      "    \n",
      "    The relationship between ``x`` and ``y`` can be shown for different subsets\n",
      "    of the data using the ``hue``, ``size``, and ``style`` parameters. These\n",
      "    parameters control what visual semantics are used to identify the different\n",
      "    subsets. It is possible to show up to three dimensions independently by\n",
      "    using all three semantic types, but this style of plot can be hard to\n",
      "    interpret and is often ineffective. Using redundant semantics (i.e. both\n",
      "    ``hue`` and ``style`` for the same variable) can be helpful for making\n",
      "    graphics more accessible.\n",
      "    \n",
      "    See the :ref:`tutorial <relational_tutorial>` for more information.    \n",
      "    \n",
      "    By default, the plot aggregates over multiple ``y`` values at each value of\n",
      "    ``x`` and shows an estimate of the central tendency and a confidence\n",
      "    interval for that estimate.\n",
      "    \n",
      "    Parameters\n",
      "    ----------\n",
      "    x, y : names of variables in ``data`` or vector data, optional\n",
      "        Input data variables; must be numeric. Can pass data directly or\n",
      "        reference columns in ``data``.    \n",
      "    hue : name of variables in ``data`` or vector data, optional\n",
      "        Grouping variable that will produce lines with different colors.\n",
      "        Can be either categorical or numeric, although color mapping will\n",
      "        behave differently in latter case.\n",
      "    size : name of variables in ``data`` or vector data, optional\n",
      "        Grouping variable that will produce lines with different widths.\n",
      "        Can be either categorical or numeric, although size mapping will\n",
      "        behave differently in latter case.\n",
      "    style : name of variables in ``data`` or vector data, optional\n",
      "        Grouping variable that will produce lines with different dashes\n",
      "        and/or markers. Can have a numeric dtype but will always be treated\n",
      "        as categorical.\n",
      "    data : DataFrame\n",
      "        Tidy (\"long-form\") dataframe where each column is a variable and each\n",
      "        row is an observation.    \n",
      "    palette : palette name, list, or dict, optional\n",
      "        Colors to use for the different levels of the ``hue`` variable. Should\n",
      "        be something that can be interpreted by :func:`color_palette`, or a\n",
      "        dictionary mapping hue levels to matplotlib colors.    \n",
      "    hue_order : list, optional\n",
      "        Specified order for the appearance of the ``hue`` variable levels,\n",
      "        otherwise they are determined from the data. Not relevant when the\n",
      "        ``hue`` variable is numeric.    \n",
      "    hue_norm : tuple or Normalize object, optional\n",
      "        Normalization in data units for colormap applied to the ``hue``\n",
      "        variable when it is numeric. Not relevant if it is categorical.    \n",
      "    sizes : list, dict, or tuple, optional\n",
      "        An object that determines how sizes are chosen when ``size`` is used.\n",
      "        It can always be a list of size values or a dict mapping levels of the\n",
      "        ``size`` variable to sizes. When ``size``  is numeric, it can also be\n",
      "        a tuple specifying the minimum and maximum size to use such that other\n",
      "        values are normalized within this range.    \n",
      "    size_order : list, optional\n",
      "        Specified order for appearance of the ``size`` variable levels,\n",
      "        otherwise they are determined from the data. Not relevant when the\n",
      "        ``size`` variable is numeric.    \n",
      "    size_norm : tuple or Normalize object, optional\n",
      "        Normalization in data units for scaling plot objects when the\n",
      "        ``size`` variable is numeric.    \n",
      "    dashes : boolean, list, or dictionary, optional\n",
      "        Object determining how to draw the lines for different levels of the\n",
      "        ``style`` variable. Setting to ``True`` will use default dash codes, or\n",
      "        you can pass a list of dash codes or a dictionary mapping levels of the\n",
      "        ``style`` variable to dash codes. Setting to ``False`` will use solid\n",
      "        lines for all subsets. Dashes are specified as in matplotlib: a tuple\n",
      "        of ``(segment, gap)`` lengths, or an empty string to draw a solid line.\n",
      "    markers : boolean, list, or dictionary, optional\n",
      "        Object determining how to draw the markers for different levels of the\n",
      "        ``style`` variable. Setting to ``True`` will use default markers, or\n",
      "        you can pass a list of markers or a dictionary mapping levels of the\n",
      "        ``style`` variable to markers. Setting to ``False`` will draw\n",
      "        marker-less lines.  Markers are specified as in matplotlib.    \n",
      "    style_order : list, optional\n",
      "        Specified order for appearance of the ``style`` variable levels\n",
      "        otherwise they are determined from the data. Not relevant when the\n",
      "        ``style`` variable is numeric.    \n",
      "    units : {long_form_var}\n",
      "        Grouping variable identifying sampling units. When used, a separate\n",
      "        line will be drawn for each unit with appropriate semantics, but no\n",
      "        legend entry will be added. Useful for showing distribution of\n",
      "        experimental replicates when exact identities are not needed.\n",
      "    \n",
      "    estimator : name of pandas method or callable or None, optional\n",
      "        Method for aggregating across multiple observations of the ``y``\n",
      "        variable at the same ``x`` level. If ``None``, all observations will\n",
      "        be drawn.    \n",
      "    ci : int or \"sd\" or None, optional\n",
      "        Size of the confidence interval to draw when aggregating with an\n",
      "        estimator. \"sd\" means to draw the standard deviation of the data.\n",
      "        Setting to ``None`` will skip bootstrapping.    \n",
      "    n_boot : int, optional\n",
      "        Number of bootstraps to use for computing the confidence interval.    \n",
      "    sort : boolean, optional\n",
      "        If True, the data will be sorted by the x and y variables, otherwise\n",
      "        lines will connect points in the order they appear in the dataset.\n",
      "    err_style : \"band\" or \"bars\", optional\n",
      "        Whether to draw the confidence intervals with translucent error bands\n",
      "        or discrete error bars.\n",
      "    err_band : dict of keyword arguments\n",
      "        Additional paramters to control the aesthetics of the error bars. The\n",
      "        kwargs are passed either to ``ax.fill_between`` or ``ax.errorbar``,\n",
      "        depending on the ``err_style``.\n",
      "    legend : \"brief\", \"full\", or False, optional\n",
      "        How to draw the legend. If \"brief\", numeric ``hue`` and ``size``\n",
      "        variables will be represented with a sample of evenly spaced values.\n",
      "        If \"full\", every group will get an entry in the legend. If ``False``,\n",
      "        no legend data is added and no legend is drawn.    \n",
      "    ax : matplotlib Axes, optional\n",
      "        Axes object to draw the plot onto, otherwise uses the current Axes.    \n",
      "    kwargs : key, value mappings\n",
      "        Other keyword arguments are passed down to ``plt.plot`` at draw time.\n",
      "    \n",
      "    Returns\n",
      "    -------\n",
      "    ax : matplotlib Axes\n",
      "        Returns the Axes object with the plot drawn onto it.    \n",
      "    \n",
      "    See Also\n",
      "    --------\n",
      "    scatterplot : Show the relationship between two variables without\n",
      "                  emphasizing continuity of the ``x`` variable.\n",
      "    pointplot : Show the relationship between two variables when one is\n",
      "                categorical.\n",
      "    \n",
      "    Examples\n",
      "    --------\n",
      "    \n",
      "    Draw a single line plot with error bands showing a confidence interval:\n",
      "    \n",
      "    .. plot::\n",
      "        :context: close-figs\n",
      "    \n",
      "        >>> import seaborn as sns; sns.set()\n",
      "        >>> import matplotlib.pyplot as plt\n",
      "        >>> fmri = sns.load_dataset(\"fmri\")\n",
      "        >>> ax = sns.lineplot(x=\"timepoint\", y=\"signal\", data=fmri)\n",
      "    \n",
      "    Group by another variable and show the groups with different colors:\n",
      "    \n",
      "    \n",
      "    .. plot::\n",
      "        :context: close-figs\n",
      "    \n",
      "        >>> ax = sns.lineplot(x=\"timepoint\", y=\"signal\", hue=\"event\",\n",
      "        ...                   data=fmri)\n",
      "    \n",
      "    Show the grouping variable with both color and line dashing:\n",
      "    \n",
      "    .. plot::\n",
      "        :context: close-figs\n",
      "    \n",
      "        >>> ax = sns.lineplot(x=\"timepoint\", y=\"signal\",\n",
      "        ...                   hue=\"event\", style=\"event\", data=fmri)\n",
      "    \n",
      "    Use color and line dashing to represent two different grouping variables:\n",
      "    \n",
      "    .. plot::\n",
      "        :context: close-figs\n",
      "    \n",
      "        >>> ax = sns.lineplot(x=\"timepoint\", y=\"signal\",\n",
      "        ...                   hue=\"region\", style=\"event\", data=fmri)\n",
      "    \n",
      "    Use markers instead of the dashes to identify groups:\n",
      "    \n",
      "    .. plot::\n",
      "        :context: close-figs\n",
      "    \n",
      "        >>> ax = sns.lineplot(x=\"timepoint\", y=\"signal\",\n",
      "        ...                   hue=\"event\", style=\"event\",\n",
      "        ...                   markers=True, dashes=False, data=fmri)\n",
      "    \n",
      "    Show error bars instead of error bands and plot the standard error:\n",
      "    \n",
      "    .. plot::\n",
      "        :context: close-figs\n",
      "    \n",
      "        >>> ax = sns.lineplot(x=\"timepoint\", y=\"signal\", hue=\"event\",\n",
      "        ...                   err_style=\"bars\", ci=68, data=fmri)\n",
      "    \n",
      "    Show experimental replicates instead of aggregating:\n",
      "    \n",
      "    .. plot::\n",
      "        :context: close-figs\n",
      "    \n",
      "        >>> ax = sns.lineplot(x=\"timepoint\", y=\"signal\", hue=\"event\",\n",
      "        ...                   units=\"subject\", estimator=None, lw=1,\n",
      "        ...                   data=fmri.query(\"region == 'frontal'\"))\n",
      "    \n",
      "    Use a quantitative color mapping:\n",
      "    \n",
      "    .. plot::\n",
      "        :context: close-figs\n",
      "    \n",
      "        >>> dots = sns.load_dataset(\"dots\").query(\"align == 'dots'\")\n",
      "        >>> ax = sns.lineplot(x=\"time\", y=\"firing_rate\",\n",
      "        ...                   hue=\"coherence\", style=\"choice\",\n",
      "        ...                   data=dots)\n",
      "    \n",
      "    Use a different normalization for the colormap:\n",
      "    \n",
      "    .. plot::\n",
      "        :context: close-figs\n",
      "    \n",
      "        >>> from matplotlib.colors import LogNorm\n",
      "        >>> ax = sns.lineplot(x=\"time\", y=\"firing_rate\",\n",
      "        ...                   hue=\"coherence\", style=\"choice\",\n",
      "        ...                   hue_norm=LogNorm(), data=dots)\n",
      "    \n",
      "    Use a different color palette:\n",
      "    \n",
      "    .. plot::\n",
      "        :context: close-figs\n",
      "    \n",
      "        >>> ax = sns.lineplot(x=\"time\", y=\"firing_rate\",\n",
      "        ...                   hue=\"coherence\", style=\"choice\",\n",
      "        ...                   palette=\"ch:2.5,.25\", data=dots)\n",
      "    \n",
      "    Use specific color values, treating the hue variable as categorical:\n",
      "    \n",
      "    .. plot::\n",
      "        :context: close-figs\n",
      "    \n",
      "        >>> palette = sns.color_palette(\"mako_r\", 6)\n",
      "        >>> ax = sns.lineplot(x=\"time\", y=\"firing_rate\",\n",
      "        ...                   hue=\"coherence\", style=\"choice\",\n",
      "        ...                   palette=palette, data=dots)\n",
      "    \n",
      "    Change the width of the lines with a quantitative variable:\n",
      "    \n",
      "    .. plot::\n",
      "        :context: close-figs\n",
      "    \n",
      "        >>> ax = sns.lineplot(x=\"time\", y=\"firing_rate\",\n",
      "        ...                   size=\"coherence\", hue=\"choice\",\n",
      "        ...                   legend=\"full\", data=dots)\n",
      "    \n",
      "    Change the range of line widths used to normalize the size variable:\n",
      "    \n",
      "    .. plot::\n",
      "        :context: close-figs\n",
      "    \n",
      "        >>> ax = sns.lineplot(x=\"time\", y=\"firing_rate\",\n",
      "        ...                   size=\"coherence\", hue=\"choice\",\n",
      "        ...                   sizes=(.25, 2.5), data=dots)\n",
      "    \n",
      "    Plot from a wide-form DataFrame:\n",
      "    \n",
      "    .. plot::\n",
      "        :context: close-figs\n",
      "    \n",
      "        >>> import numpy as np, pandas as pd; plt.close(\"all\")\n",
      "        >>> index = pd.date_range(\"1 1 2000\", periods=100,\n",
      "        ...                       freq=\"m\", name=\"date\")\n",
      "        >>> data = np.random.randn(100, 4).cumsum(axis=0)\n",
      "        >>> wide_df = pd.DataFrame(data, index, [\"a\", \"b\", \"c\", \"d\"])\n",
      "        >>> ax = sns.lineplot(data=wide_df)\n",
      "    \n",
      "    Plot from a list of Series:\n",
      "    \n",
      "    .. plot::\n",
      "        :context: close-figs\n",
      "    \n",
      "        >>> list_data = [wide_df.loc[:\"2005\", \"a\"], wide_df.loc[\"2003\":, \"b\"]]\n",
      "        >>> ax = sns.lineplot(data=list_data)\n",
      "    \n",
      "    Plot a single Series, pass kwargs to ``plt.plot``:\n",
      "    \n",
      "    .. plot::\n",
      "        :context: close-figs\n",
      "    \n",
      "        >>> ax = sns.lineplot(data=wide_df[\"a\"], color=\"coral\", label=\"line\")\n",
      "    \n",
      "    Draw lines at points as they appear in the dataset:\n",
      "    \n",
      "    .. plot::\n",
      "        :context: close-figs\n",
      "    \n",
      "        >>> x, y = np.random.randn(2, 5000).cumsum(axis=1)\n",
      "        >>> ax = sns.lineplot(x=x, y=y, sort=False, lw=1)\n",
      "\n"
     ]
    }
   ],
   "source": [
    "help(sns.lineplot)"
   ]
  },
  {
   "cell_type": "code",
   "execution_count": 14,
   "metadata": {},
   "outputs": [
    {
     "data": {
      "text/plain": [
       "(1797, 1)"
      ]
     },
     "execution_count": 14,
     "metadata": {},
     "output_type": "execute_result"
    }
   ],
   "source": [
    "y.reshape(-1, 1).shape"
   ]
  },
  {
   "cell_type": "code",
   "execution_count": null,
   "metadata": {},
   "outputs": [],
   "source": []
  }
 ],
 "metadata": {
  "kernelspec": {
   "display_name": "Python 3",
   "language": "python",
   "name": "python3"
  },
  "language_info": {
   "codemirror_mode": {
    "name": "ipython",
    "version": 3
   },
   "file_extension": ".py",
   "mimetype": "text/x-python",
   "name": "python",
   "nbconvert_exporter": "python",
   "pygments_lexer": "ipython3",
   "version": "3.7.4"
  }
 },
 "nbformat": 4,
 "nbformat_minor": 2
}
